{
 "cells": [
  {
   "cell_type": "code",
   "execution_count": 1,
   "id": "dcb55c83",
   "metadata": {
    "execution": {
     "iopub.execute_input": "2025-06-05T07:31:38.922780Z",
     "iopub.status.busy": "2025-06-05T07:31:38.922468Z",
     "iopub.status.idle": "2025-06-05T07:31:38.931449Z",
     "shell.execute_reply": "2025-06-05T07:31:38.930261Z"
    },
    "papermill": {
     "duration": 0.013638,
     "end_time": "2025-06-05T07:31:38.933198",
     "exception": false,
     "start_time": "2025-06-05T07:31:38.919560",
     "status": "completed"
    },
    "tags": []
   },
   "outputs": [
    {
     "name": "stdout",
     "output_type": "stream",
     "text": [
      "hello\n"
     ]
    }
   ],
   "source": [
    "print(\"hello\")"
   ]
  }
 ],
 "metadata": {
  "kaggle": {
   "accelerator": "none",
   "dataSources": [],
   "dockerImageVersionId": 31040,
   "isGpuEnabled": false,
   "isInternetEnabled": true,
   "language": "python",
   "sourceType": "notebook"
  },
  "kernelspec": {
   "display_name": "Python 3",
   "language": "python",
   "name": "python3"
  },
  "language_info": {
   "codemirror_mode": {
    "name": "ipython",
    "version": 3
   },
   "file_extension": ".py",
   "mimetype": "text/x-python",
   "name": "python",
   "nbconvert_exporter": "python",
   "pygments_lexer": "ipython3",
   "version": "3.11.11"
  },
  "papermill": {
   "default_parameters": {},
   "duration": 5.410997,
   "end_time": "2025-06-05T07:31:39.354244",
   "environment_variables": {},
   "exception": null,
   "input_path": "__notebook__.ipynb",
   "output_path": "__notebook__.ipynb",
   "parameters": {},
   "start_time": "2025-06-05T07:31:33.943247",
   "version": "2.6.0"
  }
 },
 "nbformat": 4,
 "nbformat_minor": 5
}
